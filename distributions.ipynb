{
 "cells": [
  {
   "cell_type": "markdown",
   "metadata": {
    "id": "ZiBQop3omBAQ",
    "colab_type": "text"
   },
   "source": [
    "$$\n",
    "\\begin{array}{c|c}\n",
    " & \\text{with replacements} & \\text{w/o replacements} \\\\\n",
    "\\hline\n",
    "\\text{Combinations (order does not matter)} & \\binom{k+n-1}{k}=\\frac{(k+n-1)!}{k!(n-1)!} & \\binom{n}{k}=\\frac{n!}{k!(n-k)!} \\\\\n",
    "\\text{Permutations (order matters)} & n^k & \\frac{n!}{(n-k)!} \\\\\n",
    "\\end{array}\n",
    "$$"
   ]
  },
  {
   "cell_type": "markdown",
   "metadata": {
    "id": "kCiK9YdHVwT6",
    "colab_type": "text"
   },
   "source": [
    "$$\n",
    "\\begin{array}{c|c}\n",
    "& \\text{parameters} & \\text{pmf/pdf} & \\text{mean} & \\text{variance} & \\text{usage}\\\\\n",
    "\\hline\n",
    "\\text{Bernoulli} & p & \\begin{cases} P(X=0)=q=(1-p) \\\\ P(X=1) \\end{cases} & p & p(1-p) & \\text{boolean-valued outcome}\\\\\n",
    "\\text{Geometric} & p & P(X=k)=(1-p)^{k-1}p & \\frac{1}{p} & \\frac{1-p}{p^2} & \\text{# of first success}\\\\\n",
    "\\text{Binomial} & n, p & P(X=k)=\\binom{n}{k}p^k(1-p)^{n-k} & np & np(1-p) & \\text{# successes drawn with replacement}\\\\\n",
    "\\text{Poisson} & \\lambda & P(X=k)=\\frac{e^{-\\lambda}\\lambda^k}{k!} & \\lambda & \\lambda & \\text{# emails/calls per time period}\\\\\n",
    "\\text{Exponential} & \\lambda & f(x|\\lambda)=\\lambda e^{-\\lambda x} & \\frac{1}{\\lambda} & \\frac{1}{\\lambda^2} & \\text{time between events}\\\\\n",
    "\\text{Normal} & \\mu, \\sigma^2 & f(x|\\mu,\\sigma^2)=\\frac{1}{\\sqrt{2\\pi\\sigma^2}}e^{-\\frac{(x-\\mu)^2}{2\\sigma^2}} & \\mu & \\sigma^2 & \\text{measurement errors}\n",
    "\\end{array} \n",
    "$$"
   ]
  },
  {
   "cell_type": "markdown",
   "metadata": {
    "id": "U4ttA7z3cGTu",
    "colab_type": "text"
   },
   "source": [
    "$$\n",
    "\\begin{array}{c|c}\n",
    " & \\text{Predicted NO} & \\text{Predicted YES} & \\\\\n",
    "\\hline\n",
    "\\text{Actual NO} & \\text{TN}\\sim1-\\alpha & \\text{FP (Type I)}\\sim\\alpha & \\text{Specificity}=\\frac{\\text{TN}}{\\text{TN}+\\text{FP}} \\\\\n",
    "\\text{Actual YES} & \\text{FN (Type II)}\\sim\\beta & \\text{TP}\\sim1-\\beta & \\text{Recall}=\\frac{\\text{TP}}{\\text{TP}+\\text{FN}}=\\text{Sensitivity} \\\\\n",
    "\\hline\n",
    " &   & \\text{Precision}=\\frac{\\text{TP}}{\\text{TP}+\\text{FP}} & F_1=2\\cdot\\frac{\\text{Precision}\\cdot\\text{Recall}}{\\text{Precision}+\\text{Recall}}\n",
    "\\end{array}\n",
    "$$"
   ]
  },
  {
   "cell_type": "markdown",
   "metadata": {
    "id": "13N7ZFc0yWXQ",
    "colab_type": "text"
   },
   "source": [
    "$$\\begin{align}\n",
    "\\text{Bayes Theorem:}\\quad & \\text{Posterior}=P(A|B)=\\frac{P(B|A) \\cdot P(A)}{P(B)}=\\frac{P(B|A) \\cdot P(A)}{P(B|A) \\cdot P(A) + P(B|\\bar{A}) \\cdot P(\\bar{A})}=\\frac{\\text{Likelihood} \\cdot \\text{Prior}}{\\text{Evidence}}\\\\\n",
    "\\text{Law of Large Numbers:}\\quad & \\bar{X}_n \\xrightarrow{\\text{a.s.}} \\mu\\\\\n",
    "\\text{Central Limit Theorem:}\\quad & \\bar{X}_n \\xrightarrow{\\text{d}} N\\Bigl(\\mu, \\frac{\\sigma^2}{n}\\Bigr);\\quad\\sqrt{n}\\frac{\\bar{X}_n-\\mu}{\\sigma} \\xrightarrow{\\text{d}} N(0,1)\\\\\n",
    "\\end{align}$$"
   ]
  },
  {
   "cell_type": "code",
   "execution_count": 1,
   "metadata": {
    "id": "8fdV28qKky3-",
    "colab_type": "code",
    "colab": {
     "autoexec": {
      "startup": false,
      "wait_interval": 0.0
     },
     "base_uri": "https://localhost:8080/",
     "height": 102.0
    },
    "outputId": "ba6aeb33-dc68-40f8-df7b-1571ca4d6fc1",
    "executionInfo": {
     "status": "ok",
     "timestamp": 1.527509730291E12,
     "user_tz": -180.0,
     "elapsed": 775.0,
     "user": {
      "displayName": "Alex Ozerov",
      "photoUrl": "//lh6.googleusercontent.com/-Fb8LerrfChQ/AAAAAAAAAAI/AAAAAAAACFY/aDQiXEa56-0/s50-c-k-no/photo.jpg",
      "userId": "113736355716624976765"
     }
    }
   },
   "outputs": [
    {
     "name": "stdout",
     "output_type": "stream",
     "text": [
      "TN: 0.9452, FP: 0.0498 \n",
      "FN: 0.0003, TP: 0.0047\n",
      "P(T|P): 0.0872\n",
      "P(B|A): 0.9500, P(A): 0.0050, P(B|nA): 0.0500, P(nA): 0.9950\n",
      "P(A|B): 0.0872\n"
     ]
    }
   ],
   "source": [
    "p, acc = 0.005, 0.95\n",
    "TN = (1 - p) * acc; FP = (1 - p) * (1 - acc)\n",
    "FN = p * (1 - acc); TP = p * acc\n",
    "print('TN: %.4f,' % TN, 'FP: %.4f' % FP, '\\nFN: %.4f,' % FN, 'TP: %.4f' % TP)\n",
    "print('P(T|P): %.4f' % (TP / (FP + TP)))\n",
    "print('P(B|A): %.4f,' % acc, 'P(A): %.4f,' % p, 'P(B|nA): %.4f,' % (1 - acc), 'P(nA): %.4f' % (1 - p))\n",
    "print('P(A|B): %.4f' % (acc * p / (acc * p + (1 - acc) * (1 - p))))"
   ]
  }
 ],
 "metadata": {
  "colab": {
   "name": "Distributions.ipynb",
   "version": "0.3.2",
   "views": {},
   "default_view": {},
   "provenance": [],
   "collapsed_sections": []
  },
  "kernelspec": {
   "name": "python3",
   "display_name": "Python 3"
  }
 },
 "nbformat": 4,
 "nbformat_minor": 0
}
